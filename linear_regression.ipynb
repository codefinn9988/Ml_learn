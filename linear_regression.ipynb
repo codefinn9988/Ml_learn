{
  "nbformat": 4,
  "nbformat_minor": 0,
  "metadata": {
    "colab": {
      "provenance": [],
      "authorship_tag": "ABX9TyNEUxAF07k4bGk/pKzTHEmH",
      "include_colab_link": true
    },
    "kernelspec": {
      "name": "python3",
      "display_name": "Python 3"
    },
    "language_info": {
      "name": "python"
    }
  },
  "cells": [
    {
      "cell_type": "markdown",
      "metadata": {
        "id": "view-in-github",
        "colab_type": "text"
      },
      "source": [
        "<a href=\"https://colab.research.google.com/github/codefinn9988/Ml_learn/blob/main/linear_regression.ipynb\" target=\"_parent\"><img src=\"https://colab.research.google.com/assets/colab-badge.svg\" alt=\"Open In Colab\"/></a>"
      ]
    },
    {
      "cell_type": "code",
      "execution_count": null,
      "metadata": {
        "id": "wqSiZjd--856",
        "colab": {
          "base_uri": "https://localhost:8080/"
        },
        "outputId": "1f8ce80f-819e-47a9-9c10-2da6572d8cd3"
      },
      "outputs": [
        {
          "output_type": "stream",
          "name": "stdout",
          "text": [
            "Epoch [100/1000], Loss:  1.2216\n",
            "Epoch [200/1000], Loss:  1.0586\n",
            "Epoch [300/1000], Loss:  0.9983\n",
            "Epoch [400/1000], Loss:  0.9760\n",
            "Epoch [500/1000], Loss:  0.9677\n",
            "Epoch [600/1000], Loss:  0.9647\n",
            "Epoch [700/1000], Loss:  0.9636\n",
            "Epoch [800/1000], Loss:  0.9631\n",
            "Epoch [900/1000], Loss:  0.9630\n",
            "Epoch [1000/1000], Loss:  0.9629\n",
            "Learned parameters: w = 1.996, b = 1.078\n",
            "Prediction for x=5: 11.057\n",
            "0.9629366397857666\n"
          ]
        }
      ],
      "source": [
        "# implement linear regression\n",
        "# y=β0​+β1​X\n",
        "# B0 = intercept\n",
        "# B1 = slope\n",
        "# y = dependent variable\n",
        "# x = independent variable\n",
        "\n",
        "import torch\n",
        "import torch.nn as nn\n",
        "import torch.optim as optim\n",
        "import matplotlib.pyplot as plt\n",
        "\n",
        "\n",
        "# 1. generate data\n",
        "torch.manual_seed(42)\n",
        "x = torch.arange(0,10,0.1).unsqueeze(1)\n",
        "noise = torch.randn(x.size()) #100,1\n",
        "y = 2*x+1+ noise # 2: slope , 1: intercept y= b1x + b0 + noise\n",
        "\n",
        "# 2. define the model\n",
        "class LinearRegression(nn.Module): # LR: sub class of nn.Module\n",
        "  def __init__(self):\n",
        "      super().__init__()\n",
        "      self.linear = nn.Linear(1,1) # 1,1 : input & output\n",
        "\n",
        "  def forward(self,x):\n",
        "    return self.linear(x)\n",
        "\n",
        "model = LinearRegression()\n",
        "\n",
        "# 3. loss and optimizer\n",
        "\n",
        "criterion = nn.MSELoss() # Mean Seqare Error default.\n",
        "\n",
        "# parameter=parameter−learning_rate×parameter.grad\n",
        "optimizer = optim.SGD(model.parameters(),lr =0.01)\n",
        "\n",
        "# 4. Training loop\n",
        "epochs = 1000\n",
        "losses = []\n",
        "for epoch in range(epochs):\n",
        "  #forward pass\n",
        "  y_pred = model(x)\n",
        "  loss = criterion(y_pred,y)\n",
        "  losses.append(loss.item())\n",
        "\n",
        "  #backwad pass\n",
        "  optimizer.zero_grad() # Reset gradients\n",
        "  loss.backward() #compute gradient via backpropagation\n",
        "  optimizer.step() # update the model parameter\n",
        "\n",
        "  #print progress  every 100 epoch\n",
        "  if(epoch + 1)%100 == 0:\n",
        "    print(f'Epoch [{epoch+1}/{epochs}], Loss: {loss.item(): .4f}')\n",
        "\n",
        "\n",
        "# 5. Evaluate\n",
        "w = model.linear.weight.item()\n",
        "b = model.linear.bias.item()\n",
        "print(f'Learned parameters: w = {w:.3f}, b = {b:.3f}')\n",
        "\n",
        "# predication\n",
        "x_new = torch.tensor([[5.0]])\n",
        "y_new = model(x_new)\n",
        "print(f'Prediction for x=5: {y_new.item():.3f}')\n",
        "print(losses[-1])\n",
        "\n",
        "\n",
        "# todo\n",
        "#3. split the data into training , testing and make prediction\n",
        "#4. make a project about House Price Prediction using linear regression\n",
        "#5. Read paper https://arxiv.org/pdf/1611.03530"
      ]
    },
    {
      "cell_type": "code",
      "source": [
        "plt.plot(range(epochs), losses)\n",
        "plt.xlabel(\"Epoch\")\n",
        "plt.ylabel(\"Loss\")\n",
        "plt.title(\"Manual Linear Regression Training\")\n",
        "plt.show()"
      ],
      "metadata": {
        "colab": {
          "base_uri": "https://localhost:8080/",
          "height": 472
        },
        "id": "znI8Vph5moFo",
        "outputId": "323b7a8b-13aa-4323-e7bb-42838e91d91d"
      },
      "execution_count": null,
      "outputs": [
        {
          "output_type": "display_data",
          "data": {
            "text/plain": [
              "<Figure size 640x480 with 1 Axes>"
            ],
            "image/png": "[encoded data removed]"
          },
          "metadata": {}
        }
      ]
    },
    {
      "cell_type": "code",
      "source": [
        "# manually\n",
        "import torch\n",
        "import torch.nn as nn\n",
        "import matplotlib.pyplot as plt\n",
        "\n",
        "#1 Generate the data\n",
        "torch.manual_seed(42)\n",
        "weight = 0.7\n",
        "bias = 0.3\n",
        "X = torch.arange(1,51,1).unsqueeze(1)\n",
        "Y = weight *X + bias\n",
        "\n",
        "# Define the model\n",
        "\n",
        "class LinearRegression():\n",
        "  def __init__(self):\n",
        "    super().__init__()\n",
        "\n",
        "    # self.linear = nn.Linear(1,1)\n",
        "    #weights\n",
        "    self.weight = torch.randn(1,dtype=torch.float,requires_grad=False)\n",
        "    #bias\n",
        "    self.bias =torch.randn(1,dtype=torch.float,requires_grad=False)\n",
        "    self.x = None\n",
        "\n",
        "\n",
        "  def forward(self,x):\n",
        "    self.x = x\n",
        "    return self.weight*x+ self.bias;\n",
        "\n",
        "  def backward(self,dloss_d_pred):\n",
        "    self.weight_grad = torch.mean(dloss_d_pred*self.x)\n",
        "    self.bias_grad = torch.mean(dloss_d_pred)\n",
        "\n",
        "    # Backpropagation computes the gradient of a loss function\n",
        "    #with respect to the weights of the network\n",
        "    # for a single input–output example,\n",
        "    # dl/dy_pred = 2*(y_pred-y_true)\n",
        "    # dl/dw = dl/dy_pred * dy_pred/dw\n",
        "    # dy_pred/dw = x (product rule )\n",
        "    # dl/db = dl/dy_pred * dy_pred/db\n",
        "    # dy_pred/db = 1 (db/db)\n",
        "\n",
        "\n",
        "\n",
        "model  =LinearRegression()\n",
        "lr = 0.01\n",
        "epochs = 100\n",
        "\n",
        "\n",
        "#training loop\n",
        "losses = []\n",
        "for epoch in range(epochs):\n",
        "  #forward pass\n",
        "  y_pred = model.forward(X)\n",
        "\n",
        "  #compute loss\n",
        "  loss = torch.mean(y_pred-Y)**2\n",
        "  losses.append(loss.item())\n",
        "\n",
        "  #compute derivative  of loss w.r.t predictions\n",
        "  # dl/dy_pred = 2*(y_pred-y_true)\n",
        "  dloss_d_pred = 2*(y_pred-Y)/len(X)\n",
        "\n",
        "  #backward pass\n",
        "\n",
        "  model.backward(dloss_d_pred)\n",
        "\n",
        "# Manual parameter update (gradient descent)\n",
        "\n",
        "  model.weight -=lr* model.weight_grad\n",
        "  model.bias -=lr*model.bias_grad\n"
      ],
      "metadata": {
        "colab": {
          "base_uri": "https://localhost:8080/"
        },
        "id": "fUDi4vie4znG",
        "outputId": "96023c9e-8e39-4d51-afdf-b36e3083abd9"
      },
      "execution_count": null,
      "outputs": [
        {
          "output_type": "stream",
          "name": "stdout",
          "text": [
            "Learned weight: 0.705, bias: 0.141\n",
            "[89.03030395507812, 38.513092041015625, 16.69745635986328, 7.263763427734375, 3.176063299179077, 1.399398922920227, 0.6236467361450195, 0.28262341022491455, 0.13121698796749115, 0.06303691864013672, 0.031723570078611374, 0.016958795487880707, 0.00976109504699707, 0.006110775284469128, 0.004177425988018513, 0.003107585711404681, 0.0024911905638873577, 0.002123447135090828, 0.0018981080502271652, 0.001756909303367138, 0.0016671328339725733, 0.0016093174926936626, 0.0015717949718236923, 0.0015473384410142899, 0.001531328191049397, 0.0015207409160211682, 0.0015137495938688517, 0.0015090025262907147, 0.0015057326527312398, 0.0015035998076200485, 0.0015020360006019473, 0.0015009704511612654, 0.0015001193387433887, 0.0014995052479207516, 0.001499018631875515, 0.0014985435409471393, 0.001498115248978138, 0.0014977424871176481, 0.001497491030022502, 0.0014972456265240908, 0.001496884971857071, 0.0014966411981731653, 0.001496270764619112, 0.0014960209373384714, 0.001495779724791646, 0.0014953409554436803, 0.0014950971817597747, 0.0014948402531445026, 0.0014946011360734701, 0.0014942482812330127, 0.0014939799439162016, 0.0014937230153009295, 0.0014934659702703357, 0.001493102521635592, 0.0014928259188309312, 0.0014925521099939942, 0.001492309500463307, 0.0014919235836714506, 0.0014916801592335105, 0.001491443021222949, 0.0014910934260115027, 0.0014908489538356662, 0.001490466296672821, 0.001490220078267157, 0.0014899828238412738, 0.0014895603526383638, 0.0014893136685714126, 0.0014890546444803476, 0.0014888157602399588, 0.0014884581323713064, 0.0014881881652399898, 0.0014879378722980618, 0.0014877053909003735, 0.0014873220352455974, 0.0014870729064568877, 0.0014868344878777862, 0.0014864136464893818, 0.0014861691743135452, 0.0014859236543998122, 0.0014856777852401137, 0.001485310262069106, 0.0014850730076432228, 0.0014847032725811005, 0.0014844615943729877, 0.00148422468919307, 0.0014838605420663953, 0.0014836176997050643, 0.0014832509914413095, 0.0014829436549916863, 0.0014827026752755046, 0.001482470310293138, 0.0014820910291746259, 0.001481848768889904, 0.0014816075563430786, 0.0014812375884503126, 0.0014809849672019482, 0.0014807364204898477, 0.0014805044047534466, 0.0014801231445744634, 0.0014798780903220177]\n"
          ]
        }
      ]
    },
    {
      "cell_type": "code",
      "source": [
        "plt.plot(range(epochs), losses)\n",
        "plt.xlabel(\"Epoch\")\n",
        "plt.ylabel(\"Loss\")\n",
        "plt.title(\"Manual Linear Regression Training\")\n",
        "plt.show()"
      ],
      "metadata": {
        "colab": {
          "base_uri": "https://localhost:8080/",
          "height": 472
        },
        "id": "wQI0zhI8lFCn",
        "outputId": "9a17a1d5-0eec-4904-9537-42d1d10c8558"
      },
      "execution_count": null,
      "outputs": [
        {
          "output_type": "display_data",
          "data": {
            "text/plain": [
              "<Figure size 640x480 with 1 Axes>"
            ],
            "image/png": "[encoded data removed]"
          },
          "metadata": {}
        }
      ]
    },
    {
      "cell_type": "code",
      "source": [
        "print(f\"Learned weight: {model.weight.item():.3f}, bias: {model.bias.item():.3f}\")"
      ],
      "metadata": {
        "colab": {
          "base_uri": "https://localhost:8080/"
        },
        "id": "rJn5MxXPleB0",
        "outputId": "31240ab9-3c1e-4e45-a4b6-335d72909f58"
      },
      "execution_count": null,
      "outputs": [
        {
          "output_type": "stream",
          "name": "stdout",
          "text": [
            "Learned weight: 0.705, bias: 0.141\n"
          ]
        }
      ]
    }
  ]
}