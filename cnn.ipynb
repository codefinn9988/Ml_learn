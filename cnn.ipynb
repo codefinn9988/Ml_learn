{
  "cells": [
    {
      "cell_type": "markdown",
      "metadata": {
        "id": "view-in-github",
        "colab_type": "text"
      },
      "source": [
        "<a href=\"https://colab.research.google.com/github/codefinn9988/Ml_learn/blob/main/cnn.ipynb\" target=\"_parent\"><img src=\"https://colab.research.google.com/assets/colab-badge.svg\" alt=\"Open In Colab\"/></a>"
      ]
    },
    {
      "cell_type": "code",
      "execution_count": 2,
      "metadata": {
        "id": "z6xE9wjW6uHO"
      },
      "outputs": [],
      "source": [
        "# CNN\n",
        "#1. LeNet5 architecture using MNIST dataset\n",
        "#2. AlexNet architecture using CIFAR-10 dataset"
      ]
    },
    {
      "cell_type": "code",
      "execution_count": 3,
      "metadata": {
        "id": "AjsmKsHOC6Gf",
        "colab": {
          "base_uri": "https://localhost:8080/",
          "height": 35
        },
        "outputId": "9da94218-7ff1-4750-9211-c3f3e858e13b"
      },
      "outputs": [
        {
          "output_type": "execute_result",
          "data": {
            "text/plain": [
              "'cuda'"
            ],
            "application/vnd.google.colaboratory.intrinsic+json": {
              "type": "string"
            }
          },
          "metadata": {},
          "execution_count": 3
        }
      ],
      "source": [
        "import torch\n",
        "from torch import nn\n",
        "\n",
        "import torchvision\n",
        "from torchvision import datasets\n",
        "from torchvision.transforms import ToTensor\n",
        "\n",
        "import matplotlib.pyplot as plt\n",
        "\n",
        "device = \"cuda\" if torch.cuda.is_available() else \"cpu\"\n",
        "device\n"
      ]
    },
    {
      "cell_type": "code",
      "execution_count": 4,
      "metadata": {
        "id": "zJV5gwIKDgbv",
        "colab": {
          "base_uri": "https://localhost:8080/"
        },
        "outputId": "34fc8b2d-88fd-43cf-ff50-691a436cf200"
      },
      "outputs": [
        {
          "output_type": "stream",
          "name": "stderr",
          "text": [
            "100%|██████████| 9.91M/9.91M [00:00<00:00, 17.1MB/s]\n",
            "100%|██████████| 28.9k/28.9k [00:00<00:00, 491kB/s]\n",
            "100%|██████████| 1.65M/1.65M [00:00<00:00, 4.60MB/s]\n",
            "100%|██████████| 4.54k/4.54k [00:00<00:00, 6.15MB/s]\n"
          ]
        },
        {
          "output_type": "execute_result",
          "data": {
            "text/plain": [
              "(Dataset MNIST\n",
              "     Number of datapoints: 60000\n",
              "     Root location: data\n",
              "     Split: Train\n",
              "     StandardTransform\n",
              " Transform: ToTensor(),\n",
              " Dataset MNIST\n",
              "     Number of datapoints: 10000\n",
              "     Root location: data\n",
              "     Split: Test\n",
              "     StandardTransform\n",
              " Transform: ToTensor())"
            ]
          },
          "metadata": {},
          "execution_count": 4
        }
      ],
      "source": [
        "train_data =  datasets.MNIST(root=\"data\",\n",
        "                           train=True,\n",
        "                           transform= ToTensor(),#transfrom pil image to tensor\n",
        "                           target_transform=None,\n",
        "                            download=True)\n",
        "test_data =datasets.MNIST(root=\"data\",\n",
        "                           train=False,\n",
        "                           transform= ToTensor(),\n",
        "                            download=True)\n",
        "\n",
        "train_data,test_data"
      ]
    },
    {
      "cell_type": "code",
      "execution_count": 5,
      "metadata": {
        "id": "_-JZNSPJJpAd",
        "colab": {
          "base_uri": "https://localhost:8080/"
        },
        "outputId": "f4c97118-1bf5-459f-ad15-0b1f57aa62e4"
      },
      "outputs": [
        {
          "output_type": "execute_result",
          "data": {
            "text/plain": [
              "(tensor([[[0.0000, 0.0000, 0.0000, 0.0000, 0.0000, 0.0000, 0.0000, 0.0000,\n",
              "           0.0000, 0.0000, 0.0000, 0.0000, 0.0000, 0.0000, 0.0000, 0.0000,\n",
              "           0.0000, 0.0000, 0.0000, 0.0000, 0.0000, 0.0000, 0.0000, 0.0000,\n",
              "           0.0000, 0.0000, 0.0000, 0.0000],\n",
              "          [0.0000, 0.0000, 0.0000, 0.0000, 0.0000, 0.0000, 0.0000, 0.0000,\n",
              "           0.0000, 0.0000, 0.0000, 0.0000, 0.0000, 0.0000, 0.0000, 0.0000,\n",
              "           0.0000, 0.0000, 0.0000, 0.0000, 0.0000, 0.0000, 0.0000, 0.0000,\n",
              "           0.0000, 0.0000, 0.0000, 0.0000],\n",
              "          [0.0000, 0.0000, 0.0000, 0.0000, 0.0000, 0.0000, 0.0000, 0.0000,\n",
              "           0.0000, 0.0000, 0.0000, 0.0000, 0.0000, 0.0000, 0.0000, 0.0000,\n",
              "           0.0000, 0.0000, 0.0000, 0.0000, 0.0000, 0.0000, 0.0000, 0.0000,\n",
              "           0.0000, 0.0000, 0.0000, 0.0000],\n",
              "          [0.0000, 0.0000, 0.0000, 0.0000, 0.0000, 0.0000, 0.0000, 0.0000,\n",
              "           0.0000, 0.0000, 0.0000, 0.0000, 0.0000, 0.0000, 0.0000, 0.0000,\n",
              "           0.0000, 0.0000, 0.0000, 0.0000, 0.0000, 0.0000, 0.0000, 0.0000,\n",
              "           0.0000, 0.0000, 0.0000, 0.0000],\n",
              "          [0.0000, 0.0000, 0.0000, 0.0000, 0.0000, 0.0000, 0.0000, 0.0000,\n",
              "           0.0000, 0.0000, 0.0000, 0.0000, 0.0000, 0.0000, 0.0000, 0.0000,\n",
              "           0.0000, 0.0000, 0.0000, 0.0000, 0.0000, 0.0000, 0.0000, 0.0000,\n",
              "           0.0000, 0.0000, 0.0000, 0.0000],\n",
              "          [0.0000, 0.0000, 0.0000, 0.0000, 0.0000, 0.0000, 0.0000, 0.0000,\n",
              "           0.0000, 0.0000, 0.0000, 0.0000, 0.0118, 0.0706, 0.0706, 0.0706,\n",
              "           0.4941, 0.5333, 0.6863, 0.1020, 0.6510, 1.0000, 0.9686, 0.4980,\n",
              "           0.0000, 0.0000, 0.0000, 0.0000],\n",
              "          [0.0000, 0.0000, 0.0000, 0.0000, 0.0000, 0.0000, 0.0000, 0.0000,\n",
              "           0.1176, 0.1412, 0.3686, 0.6039, 0.6667, 0.9922, 0.9922, 0.9922,\n",
              "           0.9922, 0.9922, 0.8824, 0.6745, 0.9922, 0.9490, 0.7647, 0.2510,\n",
              "           0.0000, 0.0000, 0.0000, 0.0000],\n",
              "          [0.0000, 0.0000, 0.0000, 0.0000, 0.0000, 0.0000, 0.0000, 0.1922,\n",
              "           0.9333, 0.9922, 0.9922, 0.9922, 0.9922, 0.9922, 0.9922, 0.9922,\n",
              "           0.9922, 0.9843, 0.3647, 0.3216, 0.3216, 0.2196, 0.1529, 0.0000,\n",
              "           0.0000, 0.0000, 0.0000, 0.0000],\n",
              "          [0.0000, 0.0000, 0.0000, 0.0000, 0.0000, 0.0000, 0.0000, 0.0706,\n",
              "           0.8588, 0.9922, 0.9922, 0.9922, 0.9922, 0.9922, 0.7765, 0.7137,\n",
              "           0.9686, 0.9451, 0.0000, 0.0000, 0.0000, 0.0000, 0.0000, 0.0000,\n",
              "           0.0000, 0.0000, 0.0000, 0.0000],\n",
              "          [0.0000, 0.0000, 0.0000, 0.0000, 0.0000, 0.0000, 0.0000, 0.0000,\n",
              "           0.3137, 0.6118, 0.4196, 0.9922, 0.9922, 0.8039, 0.0431, 0.0000,\n",
              "           0.1686, 0.6039, 0.0000, 0.0000, 0.0000, 0.0000, 0.0000, 0.0000,\n",
              "           0.0000, 0.0000, 0.0000, 0.0000],\n",
              "          [0.0000, 0.0000, 0.0000, 0.0000, 0.0000, 0.0000, 0.0000, 0.0000,\n",
              "           0.0000, 0.0549, 0.0039, 0.6039, 0.9922, 0.3529, 0.0000, 0.0000,\n",
              "           0.0000, 0.0000, 0.0000, 0.0000, 0.0000, 0.0000, 0.0000, 0.0000,\n",
              "           0.0000, 0.0000, 0.0000, 0.0000],\n",
              "          [0.0000, 0.0000, 0.0000, 0.0000, 0.0000, 0.0000, 0.0000, 0.0000,\n",
              "           0.0000, 0.0000, 0.0000, 0.5451, 0.9922, 0.7451, 0.0078, 0.0000,\n",
              "           0.0000, 0.0000, 0.0000, 0.0000, 0.0000, 0.0000, 0.0000, 0.0000,\n",
              "           0.0000, 0.0000, 0.0000, 0.0000],\n",
              "          [0.0000, 0.0000, 0.0000, 0.0000, 0.0000, 0.0000, 0.0000, 0.0000,\n",
              "           0.0000, 0.0000, 0.0000, 0.0431, 0.7451, 0.9922, 0.2745, 0.0000,\n",
              "           0.0000, 0.0000, 0.0000, 0.0000, 0.0000, 0.0000, 0.0000, 0.0000,\n",
              "           0.0000, 0.0000, 0.0000, 0.0000],\n",
              "          [0.0000, 0.0000, 0.0000, 0.0000, 0.0000, 0.0000, 0.0000, 0.0000,\n",
              "           0.0000, 0.0000, 0.0000, 0.0000, 0.1373, 0.9451, 0.8824, 0.6275,\n",
              "           0.4235, 0.0039, 0.0000, 0.0000, 0.0000, 0.0000, 0.0000, 0.0000,\n",
              "           0.0000, 0.0000, 0.0000, 0.0000],\n",
              "          [0.0000, 0.0000, 0.0000, 0.0000, 0.0000, 0.0000, 0.0000, 0.0000,\n",
              "           0.0000, 0.0000, 0.0000, 0.0000, 0.0000, 0.3176, 0.9412, 0.9922,\n",
              "           0.9922, 0.4667, 0.0980, 0.0000, 0.0000, 0.0000, 0.0000, 0.0000,\n",
              "           0.0000, 0.0000, 0.0000, 0.0000],\n",
              "          [0.0000, 0.0000, 0.0000, 0.0000, 0.0000, 0.0000, 0.0000, 0.0000,\n",
              "           0.0000, 0.0000, 0.0000, 0.0000, 0.0000, 0.0000, 0.1765, 0.7294,\n",
              "           0.9922, 0.9922, 0.5882, 0.1059, 0.0000, 0.0000, 0.0000, 0.0000,\n",
              "           0.0000, 0.0000, 0.0000, 0.0000],\n",
              "          [0.0000, 0.0000, 0.0000, 0.0000, 0.0000, 0.0000, 0.0000, 0.0000,\n",
              "           0.0000, 0.0000, 0.0000, 0.0000, 0.0000, 0.0000, 0.0000, 0.0627,\n",
              "           0.3647, 0.9882, 0.9922, 0.7333, 0.0000, 0.0000, 0.0000, 0.0000,\n",
              "           0.0000, 0.0000, 0.0000, 0.0000],\n",
              "          [0.0000, 0.0000, 0.0000, 0.0000, 0.0000, 0.0000, 0.0000, 0.0000,\n",
              "           0.0000, 0.0000, 0.0000, 0.0000, 0.0000, 0.0000, 0.0000, 0.0000,\n",
              "           0.0000, 0.9765, 0.9922, 0.9765, 0.2510, 0.0000, 0.0000, 0.0000,\n",
              "           0.0000, 0.0000, 0.0000, 0.0000],\n",
              "          [0.0000, 0.0000, 0.0000, 0.0000, 0.0000, 0.0000, 0.0000, 0.0000,\n",
              "           0.0000, 0.0000, 0.0000, 0.0000, 0.0000, 0.0000, 0.1804, 0.5098,\n",
              "           0.7176, 0.9922, 0.9922, 0.8118, 0.0078, 0.0000, 0.0000, 0.0000,\n",
              "           0.0000, 0.0000, 0.0000, 0.0000],\n",
              "          [0.0000, 0.0000, 0.0000, 0.0000, 0.0000, 0.0000, 0.0000, 0.0000,\n",
              "           0.0000, 0.0000, 0.0000, 0.0000, 0.1529, 0.5804, 0.8980, 0.9922,\n",
              "           0.9922, 0.9922, 0.9804, 0.7137, 0.0000, 0.0000, 0.0000, 0.0000,\n",
              "           0.0000, 0.0000, 0.0000, 0.0000],\n",
              "          [0.0000, 0.0000, 0.0000, 0.0000, 0.0000, 0.0000, 0.0000, 0.0000,\n",
              "           0.0000, 0.0000, 0.0941, 0.4471, 0.8667, 0.9922, 0.9922, 0.9922,\n",
              "           0.9922, 0.7882, 0.3059, 0.0000, 0.0000, 0.0000, 0.0000, 0.0000,\n",
              "           0.0000, 0.0000, 0.0000, 0.0000],\n",
              "          [0.0000, 0.0000, 0.0000, 0.0000, 0.0000, 0.0000, 0.0000, 0.0000,\n",
              "           0.0902, 0.2588, 0.8353, 0.9922, 0.9922, 0.9922, 0.9922, 0.7765,\n",
              "           0.3176, 0.0078, 0.0000, 0.0000, 0.0000, 0.0000, 0.0000, 0.0000,\n",
              "           0.0000, 0.0000, 0.0000, 0.0000],\n",
              "          [0.0000, 0.0000, 0.0000, 0.0000, 0.0000, 0.0000, 0.0706, 0.6706,\n",
              "           0.8588, 0.9922, 0.9922, 0.9922, 0.9922, 0.7647, 0.3137, 0.0353,\n",
              "           0.0000, 0.0000, 0.0000, 0.0000, 0.0000, 0.0000, 0.0000, 0.0000,\n",
              "           0.0000, 0.0000, 0.0000, 0.0000],\n",
              "          [0.0000, 0.0000, 0.0000, 0.0000, 0.2157, 0.6745, 0.8863, 0.9922,\n",
              "           0.9922, 0.9922, 0.9922, 0.9569, 0.5216, 0.0431, 0.0000, 0.0000,\n",
              "           0.0000, 0.0000, 0.0000, 0.0000, 0.0000, 0.0000, 0.0000, 0.0000,\n",
              "           0.0000, 0.0000, 0.0000, 0.0000],\n",
              "          [0.0000, 0.0000, 0.0000, 0.0000, 0.5333, 0.9922, 0.9922, 0.9922,\n",
              "           0.8314, 0.5294, 0.5176, 0.0627, 0.0000, 0.0000, 0.0000, 0.0000,\n",
              "           0.0000, 0.0000, 0.0000, 0.0000, 0.0000, 0.0000, 0.0000, 0.0000,\n",
              "           0.0000, 0.0000, 0.0000, 0.0000],\n",
              "          [0.0000, 0.0000, 0.0000, 0.0000, 0.0000, 0.0000, 0.0000, 0.0000,\n",
              "           0.0000, 0.0000, 0.0000, 0.0000, 0.0000, 0.0000, 0.0000, 0.0000,\n",
              "           0.0000, 0.0000, 0.0000, 0.0000, 0.0000, 0.0000, 0.0000, 0.0000,\n",
              "           0.0000, 0.0000, 0.0000, 0.0000],\n",
              "          [0.0000, 0.0000, 0.0000, 0.0000, 0.0000, 0.0000, 0.0000, 0.0000,\n",
              "           0.0000, 0.0000, 0.0000, 0.0000, 0.0000, 0.0000, 0.0000, 0.0000,\n",
              "           0.0000, 0.0000, 0.0000, 0.0000, 0.0000, 0.0000, 0.0000, 0.0000,\n",
              "           0.0000, 0.0000, 0.0000, 0.0000],\n",
              "          [0.0000, 0.0000, 0.0000, 0.0000, 0.0000, 0.0000, 0.0000, 0.0000,\n",
              "           0.0000, 0.0000, 0.0000, 0.0000, 0.0000, 0.0000, 0.0000, 0.0000,\n",
              "           0.0000, 0.0000, 0.0000, 0.0000, 0.0000, 0.0000, 0.0000, 0.0000,\n",
              "           0.0000, 0.0000, 0.0000, 0.0000]]]),\n",
              " 5)"
            ]
          },
          "metadata": {},
          "execution_count": 5
        }
      ],
      "source": [
        "image,label = train_data[0]\n",
        "image,label"
      ]
    },
    {
      "cell_type": "code",
      "execution_count": 6,
      "metadata": {
        "colab": {
          "base_uri": "https://localhost:8080/"
        },
        "id": "ZGXJU--zJwYS",
        "outputId": "52c0aa39-6238-47a2-f49c-88357fbcb055"
      },
      "outputs": [
        {
          "output_type": "execute_result",
          "data": {
            "text/plain": [
              "torch.Size([1, 28, 28])"
            ]
          },
          "metadata": {},
          "execution_count": 6
        }
      ],
      "source": [
        "image.shape"
      ]
    },
    {
      "cell_type": "code",
      "execution_count": 7,
      "metadata": {
        "colab": {
          "base_uri": "https://localhost:8080/"
        },
        "id": "xA_l9245LTr2",
        "outputId": "910c1593-2343-4cad-bde3-4d2d2c982b42"
      },
      "outputs": [
        {
          "output_type": "execute_result",
          "data": {
            "text/plain": [
              "(60000, 60000, 10000, 10000)"
            ]
          },
          "metadata": {},
          "execution_count": 7
        }
      ],
      "source": [
        "# .data = pixel values  .targets = label\n",
        "len(train_data.data), len(train_data.targets), len(test_data.data), len(test_data.targets)"
      ]
    },
    {
      "cell_type": "code",
      "execution_count": 8,
      "metadata": {
        "colab": {
          "base_uri": "https://localhost:8080/"
        },
        "id": "iMUbVtDiMGtx",
        "outputId": "885bc8b3-ff92-4d8c-d899-961bbbc20a66"
      },
      "outputs": [
        {
          "output_type": "execute_result",
          "data": {
            "text/plain": [
              "['0 - zero',\n",
              " '1 - one',\n",
              " '2 - two',\n",
              " '3 - three',\n",
              " '4 - four',\n",
              " '5 - five',\n",
              " '6 - six',\n",
              " '7 - seven',\n",
              " '8 - eight',\n",
              " '9 - nine']"
            ]
          },
          "metadata": {},
          "execution_count": 8
        }
      ],
      "source": [
        "class_names = train_data.classes\n",
        "class_names"
      ]
    },
    {
      "cell_type": "code",
      "execution_count": 9,
      "metadata": {
        "colab": {
          "base_uri": "https://localhost:8080/",
          "height": 470
        },
        "id": "BRXGp2IdMShw",
        "outputId": "d6f76444-4547-4a78-8b2f-dd2f077f3c89"
      },
      "outputs": [
        {
          "output_type": "stream",
          "name": "stdout",
          "text": [
            "Image shape: torch.Size([1, 28, 28])\n"
          ]
        },
        {
          "output_type": "display_data",
          "data": {
            "text/plain": [
              "<Figure size 640x480 with 1 Axes>"
            ],
            "image/png": "[encoded data removed]"
          },
          "metadata": {}
        }
      ],
      "source": [
        "image, label = train_data[115]\n",
        "print(f\"Image shape: {image.shape}\")\n",
        "plt.imshow(image.squeeze(),cmap=\"gray\")\n",
        "plt.title(label);"
      ]
    },
    {
      "cell_type": "code",
      "execution_count": 10,
      "metadata": {
        "id": "cvI-muzgOBNW",
        "colab": {
          "base_uri": "https://localhost:8080/",
          "height": 752
        },
        "outputId": "c5d3e4ad-ab41-46ed-b6e6-a7514cc7db75"
      },
      "outputs": [
        {
          "output_type": "display_data",
          "data": {
            "text/plain": [
              "<Figure size 900x900 with 16 Axes>"
            ],
            "image/png": "[encoded data removed]"
          },
          "metadata": {}
        }
      ],
      "source": [
        "fig = plt.figure(figsize=(9,9))\n",
        "rows, cols = 4,4\n",
        "for i in range(1,rows*cols +1):\n",
        "    random_idx = torch.randint(0,len(train_data),size =[1]).item()\n",
        "    img,label =train_data[random_idx]\n",
        "    fig.add_subplot(rows, cols, i)\n",
        "    plt.imshow(img.squeeze(), cmap=\"gray\")\n",
        "    plt.title(class_names[label])\n",
        "    plt.axis(False); # no x-axis and y-axis\n"
      ]
    },
    {
      "cell_type": "code",
      "execution_count": 11,
      "metadata": {
        "id": "6yzNWg8_Q1ZJ"
      },
      "outputs": [],
      "source": [
        "# DataLoader\n",
        "from torch.utils.data import DataLoader\n",
        "\n",
        "train_dataloader = DataLoader(train_data,batch_size=32,shuffle =True)\n",
        "test_dataloader =DataLoader(test_data,batch_size=32,shuffle =True)\n"
      ]
    },
    {
      "cell_type": "code",
      "execution_count": 12,
      "metadata": {
        "id": "PPoa-DqmSZfc",
        "colab": {
          "base_uri": "https://localhost:8080/"
        },
        "outputId": "979558db-d5e3-4548-cbd8-4b3ab681d433"
      },
      "outputs": [
        {
          "output_type": "execute_result",
          "data": {
            "text/plain": [
              "(torch.Size([32, 1, 28, 28]), torch.Size([32]))"
            ]
          },
          "metadata": {},
          "execution_count": 12
        }
      ],
      "source": [
        "train_features ,train_labels =next(iter(train_dataloader))\n",
        "train_features.size(),train_labels.size() #32 is a batch\n",
        "#NCHW n->number of image c -> color channel 1(grayscale)"
      ]
    },
    {
      "cell_type": "code",
      "execution_count": 13,
      "metadata": {
        "id": "LE5ZHtb_S6Pr"
      },
      "outputs": [],
      "source": [
        "# Build the CNN Model\n",
        "# Lets use  LeNet Architecture\n",
        "# image(28*28) -> conv(5*5) pad=2 ->avg pool(2*2) stride=2\n",
        "#  -> conv(5*5) ->avg pool(2*2) stride=2-> fC(fully connectd)(120)->\n",
        "# FC(84) -> FC(10)\n",
        "#\n"
      ]
    },
    {
      "cell_type": "code",
      "execution_count": 14,
      "metadata": {
        "id": "eNiDFc0fV3Ha",
        "colab": {
          "base_uri": "https://localhost:8080/"
        },
        "outputId": "df07b0e0-d6b2-4dc4-c0c7-1deb473cd54a"
      },
      "outputs": [
        {
          "output_type": "execute_result",
          "data": {
            "text/plain": [
              "LeNet5(\n",
              "  (block_1): Sequential(\n",
              "    (0): Conv2d(1, 10, kernel_size=(5, 5), stride=(1, 1), padding=(2, 2))\n",
              "    (1): ReLU()\n",
              "    (2): MaxPool2d(kernel_size=2, stride=2, padding=0, dilation=1, ceil_mode=False)\n",
              "  )\n",
              "  (block_2): Sequential(\n",
              "    (0): Conv2d(10, 10, kernel_size=(5, 5), stride=(1, 1))\n",
              "    (1): ReLU()\n",
              "    (2): MaxPool2d(kernel_size=2, stride=2, padding=0, dilation=1, ceil_mode=False)\n",
              "  )\n",
              "  (classifier): Sequential(\n",
              "    (0): Flatten(start_dim=1, end_dim=-1)\n",
              "    (1): Linear(in_features=250, out_features=120, bias=True)\n",
              "    (2): ReLU()\n",
              "    (3): Linear(in_features=120, out_features=84, bias=True)\n",
              "    (4): ReLU()\n",
              "    (5): Linear(in_features=84, out_features=10, bias=True)\n",
              "  )\n",
              ")"
            ]
          },
          "metadata": {},
          "execution_count": 14
        }
      ],
      "source": [
        "class LeNet5(nn.Module):\n",
        "  def __init__(self,input_shape:int,hidden_unit:int,output_shape:int):\n",
        "    super().__init__()\n",
        "  # nn.Sequential = stack neural network layers in sequence.\n",
        "    self.block_1 = nn.Sequential(\n",
        "        nn.Conv2d(in_channels=input_shape,\n",
        "                  out_channels=hidden_unit,\n",
        "                  kernel_size=5,\n",
        "                  padding=2\n",
        "                  ),\n",
        "        nn.ReLU(),\n",
        "        #2*2\n",
        "        nn.MaxPool2d(kernel_size=2,stride=2)\n",
        "    )\n",
        "    # After maxPool2d 28x28 -> 14x14.\n",
        "\n",
        "    self.block_2 = nn.Sequential(\n",
        "        nn.Conv2d(in_channels=hidden_unit,\n",
        "                  out_channels=hidden_unit,\n",
        "                  kernel_size=5\n",
        "                  ),\n",
        "        nn.ReLU(),\n",
        "        nn.MaxPool2d(kernel_size=2,stride=2)\n",
        "    )\n",
        "\n",
        "\n",
        "    #  output_size = (W - kernel_size + 1) -> 14 - 5 + 1 = 10.\n",
        "    # 10x10 -> 5x5.\n",
        "\n",
        "    self.classifier = nn.Sequential(\n",
        "        nn.Flatten(),\n",
        "# Input features = (output channels from block_2) * (width * height after pooling)\n",
        "        nn.Linear(in_features=hidden_unit*5*5,out_features=120),\n",
        "        nn.ReLU(),\n",
        "        nn.Linear(in_features=120,out_features=84),\n",
        "        nn.ReLU(),\n",
        "        nn.Linear(in_features=84,out_features=output_shape)\n",
        "\n",
        "    )\n",
        "\n",
        "  def forward(self,x:torch.Tensor):\n",
        "    x = self.block_1(x)\n",
        "    x = self.block_2(x)\n",
        "    x= self.classifier(x)\n",
        "    return x\n",
        "\n",
        "torch.manual_seed(42)\n",
        "model_0 = LeNet5(input_shape=1,\n",
        "                 hidden_unit=10,\n",
        "                 output_shape=len(class_names)).to(device)\n",
        "model_0"
      ]
    },
    {
      "cell_type": "code",
      "execution_count": 15,
      "metadata": {
        "id": "cNod0srUdjnu"
      },
      "outputs": [],
      "source": [
        "# Setup a loss function and optimizer\n",
        "loss_fn = nn.CrossEntropyLoss() #  for Multi-Class Classification\n",
        "optimizer = torch.optim.SGD(params=model_0.parameters(),lr=0.01)\n"
      ]
    },
    {
      "cell_type": "code",
      "execution_count": 16,
      "metadata": {
        "id": "9dRqxjDRmhjA"
      },
      "outputs": [],
      "source": [
        "# Accuracy Function\n",
        "def accuracy_fn(y_true,y_pred):\n",
        "  correct = torch.eq(y_true,y_pred).sum().item()\n",
        "  # print(correct)\n",
        "  acc = (correct/len(y_pred))*100\n",
        "  return acc\n"
      ]
    },
    {
      "cell_type": "code",
      "execution_count": 17,
      "metadata": {
        "id": "PLtB8UCYwK4D"
      },
      "outputs": [],
      "source": [
        "# Functionizing training and test loops\n",
        "\n",
        "def train_step(model:torch.nn.Module,\n",
        "               data_loader:torch.utils.data.DataLoader,\n",
        "               loss_fn:torch.nn.Module,\n",
        "               optimizer:torch.optim.Optimizer,\n",
        "               accuracy_fn):\n",
        "\n",
        "  train_loss, train_acc = 0,0\n",
        "  for batch ,(X,y) in enumerate(data_loader):\n",
        "    X,y= X.to(device), y.to(device)\n",
        "\n",
        "    # 1. Forward pass\n",
        "    y_pred = model(X)\n",
        "    # 2. Calculate loss\n",
        "    loss = loss_fn(y_pred,y)\n",
        "    train_loss+=loss\n",
        "    # argmax -> Returns the indices of the maximum value of all elements in the input tensor.\n",
        "    train_acc+=accuracy_fn(y_true=y,\n",
        "                           y_pred=y_pred.argmax(dim=1)) # convert raw logits to predicated class label\n",
        "\n",
        "    # 3. Optimizer zero grad\n",
        "    optimizer.zero_grad()\n",
        "    # 4. Loss backward\n",
        "    loss.backward()\n",
        "\n",
        "    # 5. Optimizer step\n",
        "    optimizer.step()\n",
        "\n",
        "  # Calculate loss and accuracy per epoch and print out what's happening\n",
        "  train_loss /=len(data_loader) # avg\n",
        "  train_acc /=len(data_loader)\n",
        "  print(f\"Train loss: {train_loss:.5f} | Train accuracy: {train_acc:.2f}%\")\n",
        "\n",
        "\n",
        "def test_step(model:torch.nn.Module,\n",
        "              data_loader:torch.utils.data.DataLoader,\n",
        "              loss_fn:torch.nn.Module,\n",
        "              accuracy_fn):\n",
        "  test_loss,test_acc = 0,0\n",
        "  model.eval()\n",
        "  with torch.inference_mode():\n",
        "    for X,y in data_loader:\n",
        "      X, y = X.to(device), y.to(device)\n",
        "      # 1. Forward pass\n",
        "      test_pred = model(X)\n",
        "      # 2. Calculate loss and accuracy\n",
        "      loss = loss_fn(test_pred,y)\n",
        "      test_loss +=loss\n",
        "      test_acc += accuracy_fn(y_true=y,y_pred=test_pred.argmax(dim=1))\n",
        "\n",
        "    # Adjust metrics and print out\n",
        "    test_loss /=len(data_loader) # avg\n",
        "    test_acc /=len(data_loader)\n",
        "    print(f\"Test loss: {test_loss:.5f} | Test accuracy: {test_acc:.2f}%\")"
      ]
    },
    {
      "cell_type": "code",
      "execution_count": 18,
      "metadata": {
        "colab": {
          "base_uri": "https://localhost:8080/"
        },
        "id": "twp3_4BmqTjH",
        "outputId": "8fc26ec2-eb63-405d-f5e6-ade43fb09f06"
      },
      "outputs": [
        {
          "output_type": "stream",
          "name": "stdout",
          "text": [
            "Epoch: 0\n",
            "---------\n",
            "Train loss: 1.54391 | Train accuracy: 47.68%\n",
            "Test loss: 0.31189 | Test accuracy: 90.62%\n",
            "Epoch: 1\n",
            "---------\n",
            "Train loss: 0.23158 | Train accuracy: 92.92%\n",
            "Test loss: 0.15433 | Test accuracy: 95.17%\n",
            "Epoch: 2\n",
            "---------\n",
            "Train loss: 0.13683 | Train accuracy: 95.78%\n",
            "Test loss: 0.10214 | Test accuracy: 96.85%\n"
          ]
        }
      ],
      "source": [
        "# Training and testing\n",
        "torch.manual_seed(42)\n",
        "\n",
        "epochs = 3\n",
        "for epoch in range(epochs):\n",
        "  print(f\"Epoch: {epoch}\\n---------\")\n",
        "  train_step(model=model_0,\n",
        "             data_loader=train_dataloader,\n",
        "             loss_fn=loss_fn,\n",
        "             optimizer=optimizer,\n",
        "             accuracy_fn=accuracy_fn)\n",
        "  test_step(model=model_0,\n",
        "            data_loader=test_dataloader,\n",
        "            loss_fn=loss_fn,\n",
        "            accuracy_fn=accuracy_fn)\n",
        "\n"
      ]
    },
    {
      "cell_type": "code",
      "execution_count": 19,
      "metadata": {
        "id": "4KmrOzpk8Vni"
      },
      "outputs": [],
      "source": [
        "#CIFAR-10 using AlexNet architecture."
      ]
    },
    {
      "cell_type": "code",
      "execution_count": 20,
      "metadata": {
        "id": "d_KrofuX7VhL"
      },
      "outputs": [],
      "source": [
        "from torchvision import transforms\n",
        "mean =[0.4914, 0.4822, 0.4465]\n",
        "std =[0.2023, 0.1994, 0.2010]\n",
        "transform_train = transforms.Compose([\n",
        "    transforms.RandomCrop(32,padding=4),\n",
        "    transforms.RandomHorizontalFlip(),\n",
        "    transforms.ToTensor(),\n",
        "    transforms.RandomRotation(15),\n",
        "    transforms.Normalize(mean=mean,\n",
        "                         std=std)\n",
        "])\n",
        "\n",
        "transform_test = transforms.Compose([\n",
        "    transforms.ToTensor(),\n",
        "    transforms.Normalize(mean=mean,\n",
        "                         std=std\n",
        ")])"
      ]
    },
    {
      "cell_type": "code",
      "execution_count": 21,
      "metadata": {
        "colab": {
          "base_uri": "https://localhost:8080/"
        },
        "id": "11u5CpRB7oL4",
        "outputId": "717af505-42ca-490d-84e8-c3c51e9734b9"
      },
      "outputs": [
        {
          "output_type": "stream",
          "name": "stderr",
          "text": [
            "100%|██████████| 170M/170M [00:05<00:00, 30.8MB/s]\n"
          ]
        },
        {
          "output_type": "execute_result",
          "data": {
            "text/plain": [
              "(Dataset CIFAR10\n",
              "     Number of datapoints: 50000\n",
              "     Root location: data\n",
              "     Split: Train\n",
              "     StandardTransform\n",
              " Transform: Compose(\n",
              "                RandomCrop(size=(32, 32), padding=4)\n",
              "                RandomHorizontalFlip(p=0.5)\n",
              "                ToTensor()\n",
              "                RandomRotation(degrees=[-15.0, 15.0], interpolation=nearest, expand=False, fill=0)\n",
              "                Normalize(mean=[0.4914, 0.4822, 0.4465], std=[0.2023, 0.1994, 0.201])\n",
              "            ),\n",
              " Dataset CIFAR10\n",
              "     Number of datapoints: 10000\n",
              "     Root location: data\n",
              "     Split: Test\n",
              "     StandardTransform\n",
              " Transform: Compose(\n",
              "                ToTensor()\n",
              "                Normalize(mean=[0.4914, 0.4822, 0.4465], std=[0.2023, 0.1994, 0.201])\n",
              "            ))"
            ]
          },
          "metadata": {},
          "execution_count": 21
        }
      ],
      "source": [
        "train_cifar_data = datasets.CIFAR10(root=\"data\",\n",
        "                                        train=True,\n",
        "                                        transform=transform_train,\n",
        "                                        download = True)\n",
        "\n",
        "test_cifar_data = datasets.CIFAR10(root = \"data\",\n",
        "                                       train=False,\n",
        "                                       transform=transform_test,\n",
        "                                       download=True)\n",
        "train_cifar_data,test_cifar_data"
      ]
    },
    {
      "cell_type": "code",
      "execution_count": 22,
      "metadata": {
        "colab": {
          "base_uri": "https://localhost:8080/"
        },
        "id": "HMgM9xKV7uGW",
        "outputId": "fcf3bab9-38b8-4c23-e69e-545e597f8397"
      },
      "outputs": [
        {
          "output_type": "execute_result",
          "data": {
            "text/plain": [
              "(tensor([[[-2.4291, -2.4291, -1.1497,  ..., -2.4291, -2.4291, -2.4291],\n",
              "          [-2.4291, -2.4291, -0.4518,  ..., -2.4291, -2.4291, -2.4291],\n",
              "          [-2.4291, -2.4291,  0.1685,  ..., -0.0253,  0.0328, -0.4518],\n",
              "          ...,\n",
              "          [-2.4291, -2.4291, -2.4291,  ...,  1.0021, -2.4291, -2.4291],\n",
              "          [-2.4291, -2.4291, -2.4291,  ..., -2.4291, -2.4291, -2.4291],\n",
              "          [-2.4291, -2.4291, -2.4291,  ..., -2.4291, -2.4291, -2.4291]],\n",
              " \n",
              "         [[-2.4183, -2.4183, -1.4939,  ..., -2.4183, -2.4183, -2.4183],\n",
              "          [-2.4183, -2.4183, -0.9629,  ..., -2.4183, -2.4183, -2.4183],\n",
              "          [-2.4183, -2.4183, -0.5499,  ..., -0.9039, -0.8646, -1.1399],\n",
              "          ...,\n",
              "          [-2.4183, -2.4183, -2.4183,  ...,  0.4138, -2.4183, -2.4183],\n",
              "          [-2.4183, -2.4183, -2.4183,  ..., -2.4183, -2.4183, -2.4183],\n",
              "          [-2.4183, -2.4183, -2.4183,  ..., -2.4183, -2.4183, -2.4183]],\n",
              " \n",
              "         [[-2.2214, -2.2214, -1.6361,  ..., -2.2214, -2.2214, -2.2214],\n",
              "          [-2.2214, -2.2214, -1.3239,  ..., -2.2214, -2.2214, -2.2214],\n",
              "          [-2.2214, -2.2214, -1.1288,  ..., -1.5190, -1.4605, -1.5580],\n",
              "          ...,\n",
              "          [-2.2214, -2.2214, -2.2214,  ...,  0.0418, -2.2214, -2.2214],\n",
              "          [-2.2214, -2.2214, -2.2214,  ..., -2.2214, -2.2214, -2.2214],\n",
              "          [-2.2214, -2.2214, -2.2214,  ..., -2.2214, -2.2214, -2.2214]]]),\n",
              " 6)"
            ]
          },
          "metadata": {},
          "execution_count": 22
        }
      ],
      "source": [
        "image_cifar,label_cifar= train_cifar_data[0]\n",
        "image_cifar,label_cifar"
      ]
    },
    {
      "cell_type": "code",
      "execution_count": 23,
      "metadata": {
        "colab": {
          "base_uri": "https://localhost:8080/"
        },
        "id": "nKmt_-Rx718E",
        "outputId": "138f9481-42e4-4d8a-80de-01be7b30fb9d"
      },
      "outputs": [
        {
          "output_type": "execute_result",
          "data": {
            "text/plain": [
              "torch.Size([3, 32, 32])"
            ]
          },
          "metadata": {},
          "execution_count": 23
        }
      ],
      "source": [
        "image_cifar.shape"
      ]
    },
    {
      "cell_type": "code",
      "execution_count": 24,
      "metadata": {
        "colab": {
          "base_uri": "https://localhost:8080/"
        },
        "id": "NoDPuQZdvUG3",
        "outputId": "77d33553-708e-4f5e-89e6-8de7ef3875d3"
      },
      "outputs": [
        {
          "output_type": "execute_result",
          "data": {
            "text/plain": [
              "(50000, 50000, 10000, 10000)"
            ]
          },
          "metadata": {},
          "execution_count": 24
        }
      ],
      "source": [
        "len(train_cifar_data.data), len(train_cifar_data.targets),len(test_cifar_data.data),len(test_cifar_data.targets)"
      ]
    },
    {
      "cell_type": "code",
      "execution_count": 25,
      "metadata": {
        "colab": {
          "base_uri": "https://localhost:8080/"
        },
        "id": "TZmxCMBV7-Et",
        "outputId": "17222225-e1d1-478c-c071-99d4d53663ef"
      },
      "outputs": [
        {
          "output_type": "execute_result",
          "data": {
            "text/plain": [
              "['airplane',\n",
              " 'automobile',\n",
              " 'bird',\n",
              " 'cat',\n",
              " 'deer',\n",
              " 'dog',\n",
              " 'frog',\n",
              " 'horse',\n",
              " 'ship',\n",
              " 'truck']"
            ]
          },
          "metadata": {},
          "execution_count": 25
        }
      ],
      "source": [
        "cifar_class_names = train_cifar_data.classes\n",
        "cifar_class_names"
      ]
    },
    {
      "cell_type": "code",
      "execution_count": 26,
      "metadata": {
        "colab": {
          "base_uri": "https://localhost:8080/",
          "height": 752
        },
        "id": "Gtc5lNVuALB3",
        "outputId": "433a1c37-efa8-4ccd-81ee-bf2e0db4b427"
      },
      "outputs": [
        {
          "output_type": "display_data",
          "data": {
            "text/plain": [
              "<Figure size 900x900 with 16 Axes>"
            ],
            "image/png": "[encoded data removed]"
          },
          "metadata": {}
        }
      ],
      "source": [
        "fig = plt.figure(figsize=(9,9))\n",
        "rows, cols = 4,4\n",
        "for i in range(1,rows*cols +1):\n",
        "    random_idx = torch.randint(0,len(train_cifar_data),size =[1]).item()\n",
        "\n",
        "    img,label =train_cifar_data[random_idx]\n",
        "\n",
        "    #Denormalize the data\n",
        "    img_denormalized = img.clone()\n",
        "    for t,m,s in zip(img_denormalized,mean,std):\n",
        "      t.mul_(s).add(m)\n",
        "    img_denormalized = torch.clamp(img_denormalized,0,1)\n",
        "\n",
        "    fig.add_subplot(rows, cols, i)\n",
        "    plt.imshow(torch.permute(img_denormalized,(1,2,0)))\n",
        "    plt.title(cifar_class_names[label])\n",
        "    plt.axis(False); # no x-axis and y-axis"
      ]
    },
    {
      "cell_type": "code",
      "execution_count": 27,
      "metadata": {
        "id": "PNE9MJEv9yQs"
      },
      "outputs": [],
      "source": [
        "from torch.utils.data import DataLoader\n",
        "cifar_train_dataloader =DataLoader(train_cifar_data,batch_size = 16,shuffle=True)\n",
        "cifar_test_dataloader = DataLoader(test_cifar_data,batch_size=16,shuffle=True)\n"
      ]
    },
    {
      "cell_type": "code",
      "execution_count": 28,
      "metadata": {
        "colab": {
          "base_uri": "https://localhost:8080/"
        },
        "id": "QaZG9jSh9zaS",
        "outputId": "1702e9ea-da98-4650-ba35-b364ea66d75e"
      },
      "outputs": [
        {
          "output_type": "execute_result",
          "data": {
            "text/plain": [
              "(torch.Size([16, 3, 32, 32]), torch.Size([16]))"
            ]
          },
          "metadata": {},
          "execution_count": 28
        }
      ],
      "source": [
        "cifar_train_features , cifar_test_labels = next(iter(cifar_train_dataloader))\n",
        "cifar_train_features.size(), cifar_test_labels.size()"
      ]
    },
    {
      "cell_type": "code",
      "execution_count": 29,
      "metadata": {
        "colab": {
          "base_uri": "https://localhost:8080/"
        },
        "id": "dToPS1fev5xh",
        "outputId": "2b5bcede-ea15-4396-c67b-ba7e9666391f"
      },
      "outputs": [
        {
          "output_type": "execute_result",
          "data": {
            "text/plain": [
              "AlexNet(\n",
              "  (block_1): Sequential(\n",
              "    (0): Conv2d(3, 64, kernel_size=(3, 3), stride=(1, 1), padding=(1, 1))\n",
              "    (1): ReLU(inplace=True)\n",
              "    (2): BatchNorm2d(64, eps=1e-05, momentum=0.1, affine=True, track_running_stats=True)\n",
              "    (3): MaxPool2d(kernel_size=2, stride=2, padding=0, dilation=1, ceil_mode=False)\n",
              "  )\n",
              "  (block_2): Sequential(\n",
              "    (0): Conv2d(64, 192, kernel_size=(5, 5), stride=(1, 1), padding=(2, 2))\n",
              "    (1): ReLU(inplace=True)\n",
              "    (2): BatchNorm2d(192, eps=1e-05, momentum=0.1, affine=True, track_running_stats=True)\n",
              "    (3): MaxPool2d(kernel_size=3, stride=2, padding=0, dilation=1, ceil_mode=False)\n",
              "  )\n",
              "  (block_3): Sequential(\n",
              "    (0): Conv2d(192, 384, kernel_size=(3, 3), stride=(1, 1), padding=(1, 1))\n",
              "    (1): BatchNorm2d(384, eps=1e-05, momentum=0.1, affine=True, track_running_stats=True)\n",
              "    (2): ReLU(inplace=True)\n",
              "    (3): Conv2d(384, 256, kernel_size=(3, 3), stride=(1, 1), padding=(1, 1))\n",
              "    (4): BatchNorm2d(256, eps=1e-05, momentum=0.1, affine=True, track_running_stats=True)\n",
              "    (5): ReLU(inplace=True)\n",
              "    (6): Conv2d(256, 256, kernel_size=(3, 3), stride=(1, 1), padding=(1, 1))\n",
              "    (7): BatchNorm2d(256, eps=1e-05, momentum=0.1, affine=True, track_running_stats=True)\n",
              "    (8): ReLU(inplace=True)\n",
              "    (9): MaxPool2d(kernel_size=3, stride=2, padding=0, dilation=1, ceil_mode=False)\n",
              "  )\n",
              "  (avgpool): AdaptiveAvgPool2d(output_size=(6, 6))\n",
              "  (classifier): Sequential(\n",
              "    (0): Flatten(start_dim=1, end_dim=-1)\n",
              "    (1): Linear(in_features=9216, out_features=512, bias=True)\n",
              "    (2): ReLU(inplace=True)\n",
              "    (3): Dropout(p=0.5, inplace=False)\n",
              "    (4): Linear(in_features=512, out_features=256, bias=True)\n",
              "    (5): ReLU(inplace=True)\n",
              "    (6): Dropout(p=0.5, inplace=False)\n",
              "    (7): Linear(in_features=256, out_features=10, bias=True)\n",
              "  )\n",
              ")"
            ]
          },
          "metadata": {},
          "execution_count": 29
        }
      ],
      "source": [
        "class AlexNet(nn.Module):\n",
        "  def __init__(self,num_classes:int = 10):\n",
        "    super().__init__()\n",
        "\n",
        "    # bloack 1\n",
        "    self.block_1 = nn.Sequential(\n",
        "        nn.Conv2d(\n",
        "        in_channels=3,\n",
        "        out_channels =64,\n",
        "        kernel_size=3,\n",
        "        stride = 1,\n",
        "        padding = 1\n",
        "        ),\n",
        "        nn.ReLU(inplace=True),\n",
        "        nn.BatchNorm2d(64),\n",
        "        nn.MaxPool2d(kernel_size= 2, stride =2)\n",
        "    )\n",
        "\n",
        "    # block 2\n",
        "    self.block_2 = nn.Sequential(\n",
        "        nn.Conv2d(\n",
        "            in_channels= 64,\n",
        "            out_channels= 192,\n",
        "            kernel_size= 5,\n",
        "            padding = 2,\n",
        "        ),\n",
        "        nn.ReLU(inplace=True),\n",
        "        nn.BatchNorm2d(192),\n",
        "        nn.MaxPool2d(kernel_size=3 , stride= 2)\n",
        "    )\n",
        "\n",
        "    # block 3\n",
        "    self.block_3 = nn.Sequential(\n",
        "        nn.Conv2d(\n",
        "          in_channels= 192,\n",
        "          out_channels= 384,\n",
        "          kernel_size= 3,\n",
        "          padding = 1,\n",
        "        ),\n",
        "        nn.BatchNorm2d(384),\n",
        "        nn.ReLU(inplace=True),\n",
        "        nn.Conv2d(\n",
        "          in_channels= 384,\n",
        "          out_channels= 256,\n",
        "          kernel_size= 3,\n",
        "          padding = 1,\n",
        "        ),\n",
        "        nn.BatchNorm2d(256),\n",
        "        nn.ReLU(inplace=True),\n",
        "        nn.Conv2d(\n",
        "          in_channels= 256,\n",
        "          out_channels=256 ,\n",
        "          kernel_size= 3,\n",
        "          padding = 1,\n",
        "        ),\n",
        "        nn.BatchNorm2d(256),\n",
        "        nn.ReLU(inplace=True),\n",
        "        nn.MaxPool2d(kernel_size=3,stride=2)\n",
        "    )\n",
        "\n",
        "    #nn\n",
        "    self.avgpool = nn.AdaptiveAvgPool2d((6,6))\n",
        "    self.classifier = nn.Sequential(\n",
        "        nn.Flatten(),\n",
        "        nn.Linear(in_features=256*6*6,out_features=512),\n",
        "        nn.ReLU(inplace=True),\n",
        "        nn.Dropout(p=0.5),\n",
        "        nn.Linear(in_features=512,out_features=256),\n",
        "        nn.ReLU(inplace=True),\n",
        "        nn.Dropout(p=0.5),\n",
        "        nn.Linear(in_features=256, out_features=num_classes)\n",
        "\n",
        "    )\n",
        "\n",
        "  def forward(self,x:torch.Tensor):\n",
        "      x = self.block_1(x)\n",
        "      x= self.block_2(x)\n",
        "      x = self.block_3(x)\n",
        "      x = self.avgpool(x)\n",
        "      x= self.classifier(x)\n",
        "      return x\n",
        "\n",
        "\n",
        "model_alex = AlexNet(num_classes=len(cifar_class_names)).to(device)\n",
        "\n",
        "model_alex"
      ]
    },
    {
      "cell_type": "code",
      "execution_count": 30,
      "metadata": {
        "id": "5ghsNEkev9M4"
      },
      "outputs": [],
      "source": [
        "# Setup a loss function and optimizer\n",
        "cifar_loss_fn = nn.CrossEntropyLoss(label_smoothing=0.1) #  for Multi-Class Classification\n",
        "cifar_optimizer = torch.optim.SGD(params=model_alex.parameters(),momentum= 0.9,lr=0.001,weight_decay=1e-4)"
      ]
    },
    {
      "cell_type": "code",
      "execution_count": 31,
      "metadata": {
        "colab": {
          "base_uri": "https://localhost:8080/"
        },
        "id": "5toXO6vhwB8A",
        "outputId": "501716db-28f9-43ee-f43b-6c5386771dcc"
      },
      "outputs": [
        {
          "output_type": "stream",
          "name": "stdout",
          "text": [
            "Epoch: 0\n",
            "---------\n",
            "Train loss: 1.85314 | Train accuracy: 35.92%\n",
            "Test loss: 1.51228 | Test accuracy: 54.10%\n",
            "Epoch: 1\n",
            "---------\n",
            "Train loss: 1.43571 | Train accuracy: 56.92%\n",
            "Test loss: 1.23171 | Test accuracy: 67.05%\n",
            "Epoch: 2\n",
            "---------\n",
            "Train loss: 1.26285 | Train accuracy: 65.64%\n",
            "Test loss: 1.11509 | Test accuracy: 72.86%\n",
            "Epoch: 3\n",
            "---------\n",
            "Train loss: 1.16348 | Train accuracy: 70.60%\n",
            "Test loss: 1.07823 | Test accuracy: 74.60%\n",
            "Epoch: 4\n",
            "---------\n",
            "Train loss: 1.09262 | Train accuracy: 73.74%\n",
            "Test loss: 1.02703 | Test accuracy: 76.75%\n",
            "Epoch: 5\n",
            "---------\n",
            "Train loss: 1.04187 | Train accuracy: 75.97%\n",
            "Test loss: 0.99659 | Test accuracy: 77.84%\n",
            "Epoch: 6\n",
            "---------\n",
            "Train loss: 1.00106 | Train accuracy: 78.09%\n",
            "Test loss: 0.96554 | Test accuracy: 79.12%\n",
            "Epoch: 7\n",
            "---------\n",
            "Train loss: 0.96690 | Train accuracy: 79.54%\n",
            "Test loss: 0.97170 | Test accuracy: 79.52%\n",
            "Epoch: 8\n",
            "---------\n",
            "Train loss: 0.94094 | Train accuracy: 80.68%\n",
            "Test loss: 0.94582 | Test accuracy: 80.44%\n",
            "Epoch: 9\n",
            "---------\n",
            "Train loss: 0.91820 | Train accuracy: 81.79%\n",
            "Test loss: 0.89867 | Test accuracy: 82.42%\n",
            "Epoch: 10\n",
            "---------\n",
            "Train loss: 0.89334 | Train accuracy: 82.76%\n",
            "Test loss: 0.88570 | Test accuracy: 83.37%\n",
            "Epoch: 11\n",
            "---------\n",
            "Train loss: 0.87310 | Train accuracy: 83.66%\n",
            "Test loss: 0.88648 | Test accuracy: 83.28%\n",
            "Epoch: 12\n",
            "---------\n",
            "Train loss: 0.85542 | Train accuracy: 84.58%\n",
            "Test loss: 0.90901 | Test accuracy: 82.74%\n",
            "Epoch: 13\n",
            "---------\n",
            "Train loss: 0.84048 | Train accuracy: 85.19%\n",
            "Test loss: 0.88534 | Test accuracy: 83.37%\n",
            "Epoch: 14\n",
            "---------\n",
            "Train loss: 0.82929 | Train accuracy: 85.62%\n",
            "Test loss: 0.87387 | Test accuracy: 84.04%\n",
            "Epoch: 15\n",
            "---------\n",
            "Train loss: 0.81336 | Train accuracy: 86.33%\n",
            "Test loss: 0.85740 | Test accuracy: 84.71%\n",
            "Epoch: 16\n",
            "---------\n",
            "Train loss: 0.80232 | Train accuracy: 86.90%\n",
            "Test loss: 0.85766 | Test accuracy: 84.54%\n",
            "Epoch: 17\n",
            "---------\n",
            "Train loss: 0.78841 | Train accuracy: 87.48%\n",
            "Test loss: 0.84733 | Test accuracy: 85.15%\n",
            "Epoch: 18\n",
            "---------\n",
            "Train loss: 0.77902 | Train accuracy: 87.89%\n",
            "Test loss: 0.83845 | Test accuracy: 85.78%\n",
            "Epoch: 19\n",
            "---------\n",
            "Train loss: 0.76728 | Train accuracy: 88.41%\n",
            "Test loss: 0.86562 | Test accuracy: 84.42%\n"
          ]
        }
      ],
      "source": [
        "# Training and testing\n",
        "torch.manual_seed(42)\n",
        "\n",
        "epochs =20\n",
        "for epoch in range(epochs):\n",
        "  print(f\"Epoch: {epoch}\\n---------\")\n",
        "  train_step(model=model_alex,\n",
        "             data_loader=cifar_train_dataloader,\n",
        "             loss_fn=cifar_loss_fn,\n",
        "             optimizer=cifar_optimizer,\n",
        "             accuracy_fn=accuracy_fn)\n",
        "\n",
        "  test_step(model=model_alex,\n",
        "            data_loader=cifar_test_dataloader,\n",
        "            loss_fn=cifar_loss_fn,\n",
        "            accuracy_fn=accuracy_fn)\n",
        "\n"
      ]
    }
  ],
  "metadata": {
    "accelerator": "GPU",
    "colab": {
      "gpuType": "T4",
      "provenance": [],
      "authorship_tag": "ABX9TyM1l8+6RsRruHuCqjSLreE2",
      "include_colab_link": true
    },
    "kernelspec": {
      "display_name": "Python 3",
      "name": "python3"
    },
    "language_info": {
      "name": "python"
    }
  },
  "nbformat": 4,
  "nbformat_minor": 0
}